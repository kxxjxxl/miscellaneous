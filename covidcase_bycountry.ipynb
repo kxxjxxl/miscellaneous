pip install covid
from covid import Covid
covid = Covid()
cases = covid.get_status_by_country_name("us")
for x in cases:
    print(x,":",cases[x])
